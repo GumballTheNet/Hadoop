{
 "cells": [
  {
   "cell_type": "markdown",
   "metadata": {},
   "source": [
    "Пусть у нас есть данные о людях из вк - количество их друзей и год рождения. Хотим проверить, как год рождения влияет на число друзей."
   ]
  },
  {
   "cell_type": "code",
   "execution_count": 1,
   "metadata": {},
   "outputs": [],
   "source": [
    "import pymongo\n"
   ]
  },
  {
   "cell_type": "code",
   "execution_count": 2,
   "metadata": {},
   "outputs": [],
   "source": [
    "from pymongo import MongoClient"
   ]
  },
  {
   "cell_type": "code",
   "execution_count": 3,
   "metadata": {},
   "outputs": [],
   "source": [
    "client = MongoClient()"
   ]
  },
  {
   "cell_type": "code",
   "execution_count": 4,
   "metadata": {},
   "outputs": [],
   "source": [
    "db = client.test_database"
   ]
  },
  {
   "cell_type": "code",
   "execution_count": 5,
   "metadata": {},
   "outputs": [],
   "source": [
    "friend_col = db.friends"
   ]
  },
  {
   "cell_type": "code",
   "execution_count": 6,
   "metadata": {},
   "outputs": [],
   "source": [
    "import random"
   ]
  },
  {
   "cell_type": "code",
   "execution_count": 7,
   "metadata": {},
   "outputs": [],
   "source": [
    "to_ins = []\n",
    "for k in range(1000):\n",
    "    cur = {\n",
    "        \"birth_year\" : random.randint(1980, 2010),\n",
    "        \"number_of_friends\" : random.randint(1, 500)\n",
    "    }\n",
    "    to_ins.append(cur)"
   ]
  },
  {
   "cell_type": "code",
   "execution_count": 8,
   "metadata": {},
   "outputs": [
    {
     "data": {
      "text/plain": [
       "1000"
      ]
     },
     "execution_count": 8,
     "metadata": {},
     "output_type": "execute_result"
    }
   ],
   "source": [
    "len(to_ins)"
   ]
  },
  {
   "cell_type": "code",
   "execution_count": 9,
   "metadata": {},
   "outputs": [
    {
     "data": {
      "text/plain": [
       "<pymongo.results.InsertManyResult at 0x7f35c061ef40>"
      ]
     },
     "execution_count": 9,
     "metadata": {},
     "output_type": "execute_result"
    }
   ],
   "source": [
    "friend_col.insert_many(to_ins)"
   ]
  },
  {
   "cell_type": "code",
   "execution_count": 10,
   "metadata": {},
   "outputs": [
    {
     "data": {
      "text/plain": [
       "{'_id': ObjectId('5fff2057f4a07d6263ae1c55'),\n",
       " 'birth_year': 1999,\n",
       " 'number_of_friends': 10}"
      ]
     },
     "execution_count": 10,
     "metadata": {},
     "output_type": "execute_result"
    }
   ],
   "source": [
    "friend_col.find({\"birth_year\":1999}).skip(2)[0]"
   ]
  },
  {
   "cell_type": "code",
   "execution_count": 11,
   "metadata": {},
   "outputs": [],
   "source": [
    "from bson.code import Code\n"
   ]
  },
  {
   "cell_type": "code",
   "execution_count": 12,
   "metadata": {},
   "outputs": [],
   "source": [
    "map = Code(\"function () {\"\n",
    "            \"    emit(this.birth_year, this.number_of_friends);\"\n",
    "            \"  }\"\n",
    "            )"
   ]
  },
  {
   "cell_type": "code",
   "execution_count": 13,
   "metadata": {},
   "outputs": [],
   "source": [
    "reduce = Code(\"function (key, values) {\"\n",
    "              \"  var total = 0;\"\n",
    "               \"  for (var i = 0; i < values.length; i++) {\"\n",
    "               \"    total += values[i];\"\n",
    "               \"  }\"\n",
    "               \"  return total / values.length;\"\n",
    "              \"}\")"
   ]
  },
  {
   "cell_type": "code",
   "execution_count": 14,
   "metadata": {},
   "outputs": [
    {
     "name": "stdout",
     "output_type": "stream",
     "text": [
      "Birth year:  2006\n",
      "Average umber of friends  303\n",
      "Birth year:  1998\n",
      "Average umber of friends  296\n",
      "Birth year:  2000\n",
      "Average umber of friends  286\n",
      "Birth year:  1990\n",
      "Average umber of friends  279\n",
      "Birth year:  1985\n",
      "Average umber of friends  278\n",
      "Birth year:  1995\n",
      "Average umber of friends  276\n",
      "Birth year:  1997\n",
      "Average umber of friends  276\n",
      "Birth year:  2009\n",
      "Average umber of friends  274\n",
      "Birth year:  1986\n",
      "Average umber of friends  273\n",
      "Birth year:  1984\n",
      "Average umber of friends  273\n",
      "Birth year:  1980\n",
      "Average umber of friends  268\n",
      "Birth year:  2005\n",
      "Average umber of friends  266\n",
      "Birth year:  1981\n",
      "Average umber of friends  265\n",
      "Birth year:  1989\n",
      "Average umber of friends  263\n",
      "Birth year:  1991\n",
      "Average umber of friends  261\n",
      "Birth year:  1982\n",
      "Average umber of friends  259\n",
      "Birth year:  1983\n",
      "Average umber of friends  258\n",
      "Birth year:  2008\n",
      "Average umber of friends  257\n",
      "Birth year:  1988\n",
      "Average umber of friends  254\n",
      "Birth year:  1993\n",
      "Average umber of friends  252\n",
      "Birth year:  1999\n",
      "Average umber of friends  252\n",
      "Birth year:  2010\n",
      "Average umber of friends  251\n",
      "Birth year:  1994\n",
      "Average umber of friends  249\n",
      "Birth year:  2004\n",
      "Average umber of friends  245\n",
      "Birth year:  2002\n",
      "Average umber of friends  235\n",
      "Birth year:  2001\n",
      "Average umber of friends  232\n",
      "Birth year:  1992\n",
      "Average umber of friends  232\n",
      "Birth year:  1996\n",
      "Average umber of friends  228\n",
      "Birth year:  2003\n",
      "Average umber of friends  220\n",
      "Birth year:  2007\n",
      "Average umber of friends  218\n",
      "Birth year:  1987\n",
      "Average umber of friends  193\n"
     ]
    }
   ],
   "source": [
    "res = friend_col.map_reduce(map, reduce, \"result\")\n",
    "bir_year = []\n",
    "av_fr = []\n",
    "for doc in res.find().sort('value',pymongo.DESCENDING):\n",
    "    print(\"Birth year: \", int(doc['_id']))\n",
    "    print(\"Average umber of friends \", int(doc['value']))\n",
    "    bir_year.append(int(doc['_id']))\n",
    "    av_fr.append(int(doc['value']))"
   ]
  },
  {
   "cell_type": "code",
   "execution_count": 15,
   "metadata": {},
   "outputs": [],
   "source": [
    "import matplotlib.pyplot as plt\n"
   ]
  },
  {
   "cell_type": "code",
   "execution_count": 16,
   "metadata": {},
   "outputs": [
    {
     "data": {
      "image/png": "[encoded data removed]",
      "text/plain": [
       "<Figure size 432x288 with 1 Axes>"
      ]
     },
     "metadata": {
      "needs_background": "light"
     },
     "output_type": "display_data"
    }
   ],
   "source": [
    "plt.bar(bir_year, av_fr)\n",
    "plt.xlabel('Year of birth')\n",
    "plt.ylabel('Average number of friends')\n",
    "plt.show()"
   ]
  }
 ],
 "metadata": {
  "kernelspec": {
   "display_name": "Python 3",
   "language": "python",
   "name": "python3"
  },
  "language_info": {
   "codemirror_mode": {
    "name": "ipython",
    "version": 3
   },
   "file_extension": ".py",
   "mimetype": "text/x-python",
   "name": "python",
   "nbconvert_exporter": "python",
   "pygments_lexer": "ipython3",
   "version": "3.8.3"
  }
 },
 "nbformat": 4,
 "nbformat_minor": 4
}
